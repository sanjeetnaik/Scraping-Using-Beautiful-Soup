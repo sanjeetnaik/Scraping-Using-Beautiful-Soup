{
 "cells": [
  {
   "cell_type": "code",
   "execution_count": 23,
   "id": "36446cd4",
   "metadata": {
    "scrolled": true
   },
   "outputs": [
    {
     "name": "stderr",
     "output_type": "stream",
     "text": [
      "WARNING: You are using pip version 21.3; however, version 21.3.1 is available.\n",
      "You should consider upgrading via the 'c:\\users\\sanje\\appdata\\local\\programs\\python\\python39\\python.exe -m pip install --upgrade pip' command.\n"
     ]
    }
   ],
   "source": [
    "!pip install requests --upgrade --quiet"
   ]
  },
  {
   "cell_type": "markdown",
   "id": "318119eb",
   "metadata": {},
   "source": [
    "## USING REQUESTS \n"
   ]
  },
  {
   "cell_type": "code",
   "execution_count": 24,
   "id": "02716d9d",
   "metadata": {},
   "outputs": [],
   "source": [
    "import requests"
   ]
  },
  {
   "cell_type": "code",
   "execution_count": 25,
   "id": "38ab1806",
   "metadata": {},
   "outputs": [],
   "source": [
    "topics_url = 'https://github.com/topics'"
   ]
  },
  {
   "cell_type": "code",
   "execution_count": 26,
   "id": "a38936a8",
   "metadata": {},
   "outputs": [],
   "source": [
    "response = requests.get(topics_url)"
   ]
  },
  {
   "cell_type": "code",
   "execution_count": 27,
   "id": "43c35972",
   "metadata": {},
   "outputs": [
    {
     "data": {
      "text/plain": [
       "200"
      ]
     },
     "execution_count": 27,
     "metadata": {},
     "output_type": "execute_result"
    }
   ],
   "source": [
    "response.status_code"
   ]
  },
  {
   "cell_type": "code",
   "execution_count": 28,
   "id": "ee085be2",
   "metadata": {},
   "outputs": [],
   "source": [
    "page_contents = response.text"
   ]
  },
  {
   "cell_type": "code",
   "execution_count": 29,
   "id": "ca2b2f2b",
   "metadata": {},
   "outputs": [
    {
     "data": {
      "text/plain": [
       "'\\n\\n<!DOCTYPE html>\\n<html lang=\"en\" data-color-mode=\"auto\" data-light-theme=\"light\" data-dark-theme=\"dark\">\\n  <head>\\n    <meta charset=\"utf-8\">\\n  <link rel=\"dns-prefetch\" href=\"https://github.githubassets.com\">\\n  <link rel=\"dns-prefetch\" href=\"https://avatars.githubusercontent.com\">\\n  <link rel=\"dns-prefetch\" href=\"https://github-cloud.s3.amazonaws.com\">\\n  <link rel=\"dns-prefetch\" href=\"https://user-images.githubusercontent.com/\">\\n  <link rel=\"preconnect\" href=\"https://github.githubassets.com\" crossorigin>\\n  <link rel=\"preconnect\" href=\"https://avatars.githubusercontent.com\">\\n\\n\\n\\n  <link crossorigin=\"anonymous\" media=\"all\" integrity=\"sha512-L06pZD/4Yecj8D8pY5aYfA7oKG6CI8/hlx2K9ZlXOS/j5TnYEjrusaVa9ZIb9O3/tBHmnRFLzaC1ixcafWtaAg==\" rel=\"stylesheet\" href=\"https://github.githubassets.com/assets/light-2f4ea9643ff861e723f03f296396987c.css\" /><link crossorigin=\"anonymous\" media=\"all\" integrity=\"sha512-xcx3R1NmKjgOAE2DsCHYbus068pwqr4i3Xaa1osduISrxqYFi3zIaBLqjzt5FM9VSHqFN7mneFXK73Z9a2QRJg==\" rel=\"s'"
      ]
     },
     "execution_count": 29,
     "metadata": {},
     "output_type": "execute_result"
    }
   ],
   "source": [
    "page_contents[:1000]"
   ]
  },
  {
   "cell_type": "markdown",
   "id": "8f362204",
   "metadata": {},
   "source": [
    "## USING BEAUTIFUL SOUP"
   ]
  },
  {
   "cell_type": "code",
   "execution_count": 30,
   "id": "df63a5c0",
   "metadata": {},
   "outputs": [],
   "source": [
    "from bs4 import BeautifulSoup"
   ]
  },
  {
   "cell_type": "code",
   "execution_count": 31,
   "id": "b053225b",
   "metadata": {},
   "outputs": [],
   "source": [
    "doc = BeautifulSoup(page_contents, 'html.parser')"
   ]
  },
  {
   "cell_type": "code",
   "execution_count": 32,
   "id": "279341f0",
   "metadata": {},
   "outputs": [],
   "source": [
    "desc_tags = doc.find_all('p', {'class' : 'f5 color-text-secondary mb-0 mt-1'})"
   ]
  },
  {
   "cell_type": "code",
   "execution_count": 33,
   "id": "c74b3825",
   "metadata": {
    "scrolled": false
   },
   "outputs": [
    {
     "name": "stdout",
     "output_type": "stream",
     "text": [
      "[<p class=\"f5 color-text-secondary mb-0 mt-1\">\n",
      "              3D modeling is the process of virtually developing the surface and structure of a 3D object.\n",
      "            </p>, <p class=\"f5 color-text-secondary mb-0 mt-1\">\n",
      "              Ajax is a technique for creating interactive web applications.\n",
      "            </p>, <p class=\"f5 color-text-secondary mb-0 mt-1\">\n",
      "              Algorithms are self-contained sequences that carry out a variety of tasks.\n",
      "            </p>, <p class=\"f5 color-text-secondary mb-0 mt-1\">\n",
      "              Amp is a non-blocking concurrency framework for PHP.\n",
      "            </p>, <p class=\"f5 color-text-secondary mb-0 mt-1\">\n",
      "              Android is an operating system built by Google designed for mobile devices.\n",
      "            </p>]\n"
     ]
    }
   ],
   "source": [
    "print(desc_tags[:5])"
   ]
  },
  {
   "cell_type": "code",
   "execution_count": 55,
   "id": "a36cf7fd",
   "metadata": {},
   "outputs": [
    {
     "data": {
      "text/plain": [
       "'\\n              3D modeling is the process of virtually developing the surface and structure of a 3D object.\\n            '"
      ]
     },
     "execution_count": 55,
     "metadata": {},
     "output_type": "execute_result"
    }
   ],
   "source": [
    "desc_tags[0].text"
   ]
  },
  {
   "cell_type": "code",
   "execution_count": 34,
   "id": "df192195",
   "metadata": {},
   "outputs": [],
   "source": [
    "title_tags = doc.find_all('p',{'class' : 'f3 lh-condensed mb-0 mt-1 Link--primary'})"
   ]
  },
  {
   "cell_type": "code",
   "execution_count": 35,
   "id": "ade848ad",
   "metadata": {},
   "outputs": [
    {
     "name": "stdout",
     "output_type": "stream",
     "text": [
      "[<p class=\"f3 lh-condensed mb-0 mt-1 Link--primary\">3D</p>, <p class=\"f3 lh-condensed mb-0 mt-1 Link--primary\">Ajax</p>, <p class=\"f3 lh-condensed mb-0 mt-1 Link--primary\">Algorithm</p>, <p class=\"f3 lh-condensed mb-0 mt-1 Link--primary\">Amp</p>, <p class=\"f3 lh-condensed mb-0 mt-1 Link--primary\">Android</p>]\n"
     ]
    }
   ],
   "source": [
    "print(title_tags[:5])"
   ]
  },
  {
   "cell_type": "code",
   "execution_count": 49,
   "id": "e1447a16",
   "metadata": {
    "scrolled": true
   },
   "outputs": [],
   "source": [
    "# title_tags[0].parent.parent.parent"
   ]
  },
  {
   "cell_type": "code",
   "execution_count": 39,
   "id": "a5502275",
   "metadata": {},
   "outputs": [],
   "source": [
    "topic_link_tags = doc.find_all('a', {'class' : 'd-flex no-underline'})"
   ]
  },
  {
   "cell_type": "code",
   "execution_count": 42,
   "id": "3ca1d419",
   "metadata": {},
   "outputs": [
    {
     "data": {
      "text/plain": [
       "'/topics/3d'"
      ]
     },
     "execution_count": 42,
     "metadata": {},
     "output_type": "execute_result"
    }
   ],
   "source": [
    "topic_link_tags[0]['href']"
   ]
  },
  {
   "cell_type": "code",
   "execution_count": 51,
   "id": "9c61c3fc",
   "metadata": {},
   "outputs": [],
   "source": [
    "github_url = 'https://github.com'"
   ]
  },
  {
   "cell_type": "code",
   "execution_count": 52,
   "id": "c4c56506",
   "metadata": {},
   "outputs": [],
   "source": [
    "topic0_url = github_url+topic_link_tags[0]['href']"
   ]
  },
  {
   "cell_type": "code",
   "execution_count": 53,
   "id": "0087c2a5",
   "metadata": {},
   "outputs": [
    {
     "data": {
      "text/plain": [
       "'https://github.com/topics/3d'"
      ]
     },
     "execution_count": 53,
     "metadata": {},
     "output_type": "execute_result"
    }
   ],
   "source": [
    "topic0_url"
   ]
  },
  {
   "cell_type": "code",
   "execution_count": 87,
   "id": "8a48743e",
   "metadata": {},
   "outputs": [],
   "source": [
    "titles = []\n",
    "desc = []\n",
    "links = []"
   ]
  },
  {
   "cell_type": "code",
   "execution_count": 88,
   "id": "99996659",
   "metadata": {},
   "outputs": [],
   "source": [
    "for i in title_tags:\n",
    "    titles.append(i.text)"
   ]
  },
  {
   "cell_type": "code",
   "execution_count": 89,
   "id": "2723bae8",
   "metadata": {},
   "outputs": [],
   "source": [
    "for i in topic_link_tags:\n",
    "    links.append(github_url+i['href'])"
   ]
  },
  {
   "cell_type": "code",
   "execution_count": 90,
   "id": "43371da9",
   "metadata": {
    "scrolled": true
   },
   "outputs": [],
   "source": [
    "for i in desc_tags:\n",
    "    temp = i.text.replace('\\n','')\n",
    "    temp = temp.replace('  ','')\n",
    "    desc.append(temp)"
   ]
  },
  {
   "cell_type": "code",
   "execution_count": 94,
   "id": "516e723a",
   "metadata": {
    "scrolled": true
   },
   "outputs": [],
   "source": [
    "# titles"
   ]
  },
  {
   "cell_type": "code",
   "execution_count": 95,
   "id": "83a3987a",
   "metadata": {
    "scrolled": true
   },
   "outputs": [],
   "source": [
    "# links"
   ]
  },
  {
   "cell_type": "code",
   "execution_count": 96,
   "id": "d90a82a9",
   "metadata": {
    "scrolled": true
   },
   "outputs": [],
   "source": [
    "# desc"
   ]
  },
  {
   "cell_type": "code",
   "execution_count": 97,
   "id": "0d12eb96",
   "metadata": {},
   "outputs": [],
   "source": [
    "import pandas as pd"
   ]
  },
  {
   "cell_type": "code",
   "execution_count": 102,
   "id": "89e8a1b7",
   "metadata": {},
   "outputs": [],
   "source": [
    "temp_dict = {\"title\" : titles, \"description\" : desc, \"link\" : links}\n",
    "topics = pd.DataFrame(temp_dict)"
   ]
  },
  {
   "cell_type": "code",
   "execution_count": 105,
   "id": "38cc5cd8",
   "metadata": {
    "scrolled": true
   },
   "outputs": [
    {
     "data": {
      "text/html": [
       "<div>\n",
       "<style scoped>\n",
       "    .dataframe tbody tr th:only-of-type {\n",
       "        vertical-align: middle;\n",
       "    }\n",
       "\n",
       "    .dataframe tbody tr th {\n",
       "        vertical-align: top;\n",
       "    }\n",
       "\n",
       "    .dataframe thead th {\n",
       "        text-align: right;\n",
       "    }\n",
       "</style>\n",
       "<table border=\"1\" class=\"dataframe\">\n",
       "  <thead>\n",
       "    <tr style=\"text-align: right;\">\n",
       "      <th></th>\n",
       "      <th>title</th>\n",
       "      <th>description</th>\n",
       "      <th>link</th>\n",
       "    </tr>\n",
       "  </thead>\n",
       "  <tbody>\n",
       "    <tr>\n",
       "      <th>0</th>\n",
       "      <td>3D</td>\n",
       "      <td>3D modeling is the process of virtually develo...</td>\n",
       "      <td>https://github.com/topics/3d</td>\n",
       "    </tr>\n",
       "    <tr>\n",
       "      <th>1</th>\n",
       "      <td>Ajax</td>\n",
       "      <td>Ajax is a technique for creating interactive w...</td>\n",
       "      <td>https://github.com/topics/ajax</td>\n",
       "    </tr>\n",
       "    <tr>\n",
       "      <th>2</th>\n",
       "      <td>Algorithm</td>\n",
       "      <td>Algorithms are self-contained sequences that c...</td>\n",
       "      <td>https://github.com/topics/algorithm</td>\n",
       "    </tr>\n",
       "    <tr>\n",
       "      <th>3</th>\n",
       "      <td>Amp</td>\n",
       "      <td>Amp is a non-blocking concurrency framework fo...</td>\n",
       "      <td>https://github.com/topics/amphp</td>\n",
       "    </tr>\n",
       "    <tr>\n",
       "      <th>4</th>\n",
       "      <td>Android</td>\n",
       "      <td>Android is an operating system built by Google...</td>\n",
       "      <td>https://github.com/topics/android</td>\n",
       "    </tr>\n",
       "  </tbody>\n",
       "</table>\n",
       "</div>"
      ],
      "text/plain": [
       "       title                                        description  \\\n",
       "0         3D  3D modeling is the process of virtually develo...   \n",
       "1       Ajax  Ajax is a technique for creating interactive w...   \n",
       "2  Algorithm  Algorithms are self-contained sequences that c...   \n",
       "3        Amp  Amp is a non-blocking concurrency framework fo...   \n",
       "4    Android  Android is an operating system built by Google...   \n",
       "\n",
       "                                  link  \n",
       "0         https://github.com/topics/3d  \n",
       "1       https://github.com/topics/ajax  \n",
       "2  https://github.com/topics/algorithm  \n",
       "3      https://github.com/topics/amphp  \n",
       "4    https://github.com/topics/android  "
      ]
     },
     "execution_count": 105,
     "metadata": {},
     "output_type": "execute_result"
    }
   ],
   "source": [
    "topics.head(5)"
   ]
  },
  {
   "cell_type": "markdown",
   "id": "79a37c68",
   "metadata": {},
   "source": [
    "## Saving in CSV file"
   ]
  },
  {
   "cell_type": "code",
   "execution_count": 106,
   "id": "85c942e5",
   "metadata": {},
   "outputs": [],
   "source": [
    "topics.to_csv('topics.csv')"
   ]
  },
  {
   "cell_type": "code",
   "execution_count": 108,
   "id": "bc6c2bb2",
   "metadata": {},
   "outputs": [],
   "source": [
    "response = requests.get('https://github.com/topics/3d')"
   ]
  },
  {
   "cell_type": "code",
   "execution_count": 109,
   "id": "616ac8ea",
   "metadata": {},
   "outputs": [
    {
     "data": {
      "text/plain": [
       "200"
      ]
     },
     "execution_count": 109,
     "metadata": {},
     "output_type": "execute_result"
    }
   ],
   "source": [
    "response.status_code"
   ]
  },
  {
   "cell_type": "code",
   "execution_count": 110,
   "id": "e617137b",
   "metadata": {},
   "outputs": [
    {
     "data": {
      "text/plain": [
       "635451"
      ]
     },
     "execution_count": 110,
     "metadata": {},
     "output_type": "execute_result"
    }
   ],
   "source": [
    "len(response.text)"
   ]
  },
  {
   "cell_type": "code",
   "execution_count": 165,
   "id": "85f1c153",
   "metadata": {},
   "outputs": [],
   "source": [
    "topic_doc = BeautifulSoup(response.text, 'html.parser')"
   ]
  },
  {
   "cell_type": "code",
   "execution_count": 166,
   "id": "ab364286",
   "metadata": {},
   "outputs": [],
   "source": [
    "header_selection = 'f3 color-fg-muted text-normal lh-condensed'"
   ]
  },
  {
   "cell_type": "code",
   "execution_count": 182,
   "id": "d0cc355e",
   "metadata": {},
   "outputs": [],
   "source": [
    "repo_tags = topic_doc.find_all('h3', header_selection)"
   ]
  },
  {
   "cell_type": "code",
   "execution_count": 183,
   "id": "10d89310",
   "metadata": {},
   "outputs": [
    {
     "data": {
      "text/plain": [
       "30"
      ]
     },
     "execution_count": 183,
     "metadata": {},
     "output_type": "execute_result"
    }
   ],
   "source": [
    "len(repo_tags)"
   ]
  },
  {
   "cell_type": "code",
   "execution_count": 184,
   "id": "e105f40e",
   "metadata": {},
   "outputs": [],
   "source": [
    "a_tags = repo_tags[0].find_all('a')"
   ]
  },
  {
   "cell_type": "code",
   "execution_count": 185,
   "id": "d0d8c14e",
   "metadata": {},
   "outputs": [
    {
     "data": {
      "text/plain": [
       "'mrdoob'"
      ]
     },
     "execution_count": 185,
     "metadata": {},
     "output_type": "execute_result"
    }
   ],
   "source": [
    "a_tags[0].text.strip()"
   ]
  },
  {
   "cell_type": "code",
   "execution_count": 186,
   "id": "33646669",
   "metadata": {},
   "outputs": [
    {
     "data": {
      "text/plain": [
       "'three.js'"
      ]
     },
     "execution_count": 186,
     "metadata": {},
     "output_type": "execute_result"
    }
   ],
   "source": [
    "a_tags[1].text.strip()"
   ]
  },
  {
   "cell_type": "code",
   "execution_count": 187,
   "id": "1e151042",
   "metadata": {},
   "outputs": [
    {
     "data": {
      "text/plain": [
       "'/mrdoob/three.js'"
      ]
     },
     "execution_count": 187,
     "metadata": {},
     "output_type": "execute_result"
    }
   ],
   "source": [
    "a_tags[1]['href']"
   ]
  },
  {
   "cell_type": "code",
   "execution_count": 188,
   "id": "be949440",
   "metadata": {},
   "outputs": [
    {
     "data": {
      "text/plain": [
       "'https://github.com/mrdoob/three.js'"
      ]
     },
     "execution_count": 188,
     "metadata": {},
     "output_type": "execute_result"
    }
   ],
   "source": [
    "github_url+a_tags[1]['href']"
   ]
  },
  {
   "cell_type": "code",
   "execution_count": 189,
   "id": "c7b77577",
   "metadata": {},
   "outputs": [],
   "source": [
    "stars_ls = topic_doc.find_all('a', {'class' : 'social-count float-none'})"
   ]
  },
  {
   "cell_type": "code",
   "execution_count": 190,
   "id": "6be93f22",
   "metadata": {},
   "outputs": [
    {
     "data": {
      "text/plain": [
       "30"
      ]
     },
     "execution_count": 190,
     "metadata": {},
     "output_type": "execute_result"
    }
   ],
   "source": [
    "len(stars_ls)"
   ]
  },
  {
   "cell_type": "code",
   "execution_count": 191,
   "id": "5582b38a",
   "metadata": {},
   "outputs": [
    {
     "data": {
      "text/plain": [
       "'75.1k'"
      ]
     },
     "execution_count": 191,
     "metadata": {},
     "output_type": "execute_result"
    }
   ],
   "source": [
    "stars_ls[0].text.strip()"
   ]
  },
  {
   "cell_type": "markdown",
   "id": "bfc4693f",
   "metadata": {},
   "source": [
    "## Creating scraping functions and storing them in a dataframe"
   ]
  },
  {
   "cell_type": "code",
   "execution_count": 208,
   "id": "5b1fc6d1",
   "metadata": {},
   "outputs": [],
   "source": [
    "def star_count(star_str):\n",
    "    star_str = star_str.strip()\n",
    "    if(star_str[len(star_str)-1] == 'k'):\n",
    "        return float(star_str[:-1])*1000"
   ]
  },
  {
   "cell_type": "code",
   "execution_count": 210,
   "id": "1dc09d98",
   "metadata": {},
   "outputs": [
    {
     "data": {
      "text/plain": [
       "19100.0"
      ]
     },
     "execution_count": 210,
     "metadata": {},
     "output_type": "execute_result"
    }
   ],
   "source": [
    "star_count(stars_ls[1].text)"
   ]
  },
  {
   "cell_type": "code",
   "execution_count": 211,
   "id": "44502151",
   "metadata": {},
   "outputs": [],
   "source": [
    "def get_repo_info(header_tag = repo_tags[0], star_tag = stars_ls[0]):\n",
    "    #returns all required info regarding the repo\n",
    "    a_tags = header_tag.find_all('a')\n",
    "    username = a_tags[0].text.strip()\n",
    "    repo_name = a_tags[1].text.strip()\n",
    "    repo_url = github_url + a_tags[1]['href']\n",
    "    star_tag = star_tag.text\n",
    "    stars = star_count(star_tag)\n",
    "    return [username, repo_name, stars, repo_url]"
   ]
  },
  {
   "cell_type": "code",
   "execution_count": 212,
   "id": "2de2122a",
   "metadata": {},
   "outputs": [
    {
     "data": {
      "text/plain": [
       "['mrdoob', 'three.js', 75100.0, 'https://github.com/mrdoob/three.js']"
      ]
     },
     "execution_count": 212,
     "metadata": {},
     "output_type": "execute_result"
    }
   ],
   "source": [
    "get_repo_info()"
   ]
  },
  {
   "cell_type": "code",
   "execution_count": 213,
   "id": "4805ca1a",
   "metadata": {},
   "outputs": [],
   "source": [
    "usernames = []\n",
    "repo_names = []\n",
    "repo_urls = []\n",
    "ls_stars = []"
   ]
  },
  {
   "cell_type": "code",
   "execution_count": 214,
   "id": "37ee24ac",
   "metadata": {},
   "outputs": [],
   "source": [
    "for i in range(0,len(repo_tags),1):\n",
    "    temp_ls = get_repo_info(header_tag=repo_tags[i], star_tag=stars_ls[i])\n",
    "    usernames.append(temp_ls[0])\n",
    "    repo_names.append(temp_ls[1])\n",
    "    repo_urls.append(temp_ls[2])\n",
    "    ls_stars.append(temp_ls[3])"
   ]
  },
  {
   "cell_type": "code",
   "execution_count": 217,
   "id": "9c0f2a59",
   "metadata": {},
   "outputs": [],
   "source": [
    "data_dict = {'Username' : usernames, 'Repo Name' : repo_names, 'Repo Urls' : repo_urls, 'Star Ratings' : ls_stars}"
   ]
  },
  {
   "cell_type": "code",
   "execution_count": 218,
   "id": "12c28b11",
   "metadata": {},
   "outputs": [],
   "source": [
    "df = pd.DataFrame(data_dict)"
   ]
  },
  {
   "cell_type": "code",
   "execution_count": 219,
   "id": "d54e4b67",
   "metadata": {},
   "outputs": [
    {
     "data": {
      "text/html": [
       "<div>\n",
       "<style scoped>\n",
       "    .dataframe tbody tr th:only-of-type {\n",
       "        vertical-align: middle;\n",
       "    }\n",
       "\n",
       "    .dataframe tbody tr th {\n",
       "        vertical-align: top;\n",
       "    }\n",
       "\n",
       "    .dataframe thead th {\n",
       "        text-align: right;\n",
       "    }\n",
       "</style>\n",
       "<table border=\"1\" class=\"dataframe\">\n",
       "  <thead>\n",
       "    <tr style=\"text-align: right;\">\n",
       "      <th></th>\n",
       "      <th>Username</th>\n",
       "      <th>Repo Name</th>\n",
       "      <th>Repo Urls</th>\n",
       "      <th>Star Ratings</th>\n",
       "    </tr>\n",
       "  </thead>\n",
       "  <tbody>\n",
       "    <tr>\n",
       "      <th>0</th>\n",
       "      <td>mrdoob</td>\n",
       "      <td>three.js</td>\n",
       "      <td>75100.0</td>\n",
       "      <td>https://github.com/mrdoob/three.js</td>\n",
       "    </tr>\n",
       "    <tr>\n",
       "      <th>1</th>\n",
       "      <td>libgdx</td>\n",
       "      <td>libgdx</td>\n",
       "      <td>19100.0</td>\n",
       "      <td>https://github.com/libgdx/libgdx</td>\n",
       "    </tr>\n",
       "    <tr>\n",
       "      <th>2</th>\n",
       "      <td>pmndrs</td>\n",
       "      <td>react-three-fiber</td>\n",
       "      <td>15400.0</td>\n",
       "      <td>https://github.com/pmndrs/react-three-fiber</td>\n",
       "    </tr>\n",
       "    <tr>\n",
       "      <th>3</th>\n",
       "      <td>BabylonJS</td>\n",
       "      <td>Babylon.js</td>\n",
       "      <td>15100.0</td>\n",
       "      <td>https://github.com/BabylonJS/Babylon.js</td>\n",
       "    </tr>\n",
       "    <tr>\n",
       "      <th>4</th>\n",
       "      <td>aframevr</td>\n",
       "      <td>aframe</td>\n",
       "      <td>13200.0</td>\n",
       "      <td>https://github.com/aframevr/aframe</td>\n",
       "    </tr>\n",
       "    <tr>\n",
       "      <th>5</th>\n",
       "      <td>ssloy</td>\n",
       "      <td>tinyrenderer</td>\n",
       "      <td>11500.0</td>\n",
       "      <td>https://github.com/ssloy/tinyrenderer</td>\n",
       "    </tr>\n",
       "    <tr>\n",
       "      <th>6</th>\n",
       "      <td>lettier</td>\n",
       "      <td>3d-game-shaders-for-beginners</td>\n",
       "      <td>11400.0</td>\n",
       "      <td>https://github.com/lettier/3d-game-shaders-for...</td>\n",
       "    </tr>\n",
       "    <tr>\n",
       "      <th>7</th>\n",
       "      <td>FreeCAD</td>\n",
       "      <td>FreeCAD</td>\n",
       "      <td>10100.0</td>\n",
       "      <td>https://github.com/FreeCAD/FreeCAD</td>\n",
       "    </tr>\n",
       "    <tr>\n",
       "      <th>8</th>\n",
       "      <td>metafizzy</td>\n",
       "      <td>zdog</td>\n",
       "      <td>8800.0</td>\n",
       "      <td>https://github.com/metafizzy/zdog</td>\n",
       "    </tr>\n",
       "    <tr>\n",
       "      <th>9</th>\n",
       "      <td>CesiumGS</td>\n",
       "      <td>cesium</td>\n",
       "      <td>7600.0</td>\n",
       "      <td>https://github.com/CesiumGS/cesium</td>\n",
       "    </tr>\n",
       "    <tr>\n",
       "      <th>10</th>\n",
       "      <td>timzhang642</td>\n",
       "      <td>3D-Machine-Learning</td>\n",
       "      <td>7200.0</td>\n",
       "      <td>https://github.com/timzhang642/3D-Machine-Lear...</td>\n",
       "    </tr>\n",
       "    <tr>\n",
       "      <th>11</th>\n",
       "      <td>a1studmuffin</td>\n",
       "      <td>SpaceshipGenerator</td>\n",
       "      <td>6900.0</td>\n",
       "      <td>https://github.com/a1studmuffin/SpaceshipGener...</td>\n",
       "    </tr>\n",
       "    <tr>\n",
       "      <th>12</th>\n",
       "      <td>isl-org</td>\n",
       "      <td>Open3D</td>\n",
       "      <td>5600.0</td>\n",
       "      <td>https://github.com/isl-org/Open3D</td>\n",
       "    </tr>\n",
       "    <tr>\n",
       "      <th>13</th>\n",
       "      <td>spritejs</td>\n",
       "      <td>spritejs</td>\n",
       "      <td>4600.0</td>\n",
       "      <td>https://github.com/spritejs/spritejs</td>\n",
       "    </tr>\n",
       "    <tr>\n",
       "      <th>14</th>\n",
       "      <td>tensorspace-team</td>\n",
       "      <td>tensorspace</td>\n",
       "      <td>4500.0</td>\n",
       "      <td>https://github.com/tensorspace-team/tensorspace</td>\n",
       "    </tr>\n",
       "    <tr>\n",
       "      <th>15</th>\n",
       "      <td>jagenjo</td>\n",
       "      <td>webglstudio.js</td>\n",
       "      <td>4500.0</td>\n",
       "      <td>https://github.com/jagenjo/webglstudio.js</td>\n",
       "    </tr>\n",
       "    <tr>\n",
       "      <th>16</th>\n",
       "      <td>domlysz</td>\n",
       "      <td>BlenderGIS</td>\n",
       "      <td>4500.0</td>\n",
       "      <td>https://github.com/domlysz/BlenderGIS</td>\n",
       "    </tr>\n",
       "    <tr>\n",
       "      <th>17</th>\n",
       "      <td>YadiraF</td>\n",
       "      <td>PRNet</td>\n",
       "      <td>4400.0</td>\n",
       "      <td>https://github.com/YadiraF/PRNet</td>\n",
       "    </tr>\n",
       "    <tr>\n",
       "      <th>18</th>\n",
       "      <td>AaronJackson</td>\n",
       "      <td>vrn</td>\n",
       "      <td>4400.0</td>\n",
       "      <td>https://github.com/AaronJackson/vrn</td>\n",
       "    </tr>\n",
       "    <tr>\n",
       "      <th>19</th>\n",
       "      <td>openscad</td>\n",
       "      <td>openscad</td>\n",
       "      <td>4300.0</td>\n",
       "      <td>https://github.com/openscad/openscad</td>\n",
       "    </tr>\n",
       "    <tr>\n",
       "      <th>20</th>\n",
       "      <td>ssloy</td>\n",
       "      <td>tinyraytracer</td>\n",
       "      <td>3900.0</td>\n",
       "      <td>https://github.com/ssloy/tinyraytracer</td>\n",
       "    </tr>\n",
       "    <tr>\n",
       "      <th>21</th>\n",
       "      <td>mosra</td>\n",
       "      <td>magnum</td>\n",
       "      <td>3700.0</td>\n",
       "      <td>https://github.com/mosra/magnum</td>\n",
       "    </tr>\n",
       "    <tr>\n",
       "      <th>22</th>\n",
       "      <td>blender</td>\n",
       "      <td>blender</td>\n",
       "      <td>3600.0</td>\n",
       "      <td>https://github.com/blender/blender</td>\n",
       "    </tr>\n",
       "    <tr>\n",
       "      <th>23</th>\n",
       "      <td>google</td>\n",
       "      <td>model-viewer</td>\n",
       "      <td>3500.0</td>\n",
       "      <td>https://github.com/google/model-viewer</td>\n",
       "    </tr>\n",
       "    <tr>\n",
       "      <th>24</th>\n",
       "      <td>gfxfundamentals</td>\n",
       "      <td>webgl-fundamentals</td>\n",
       "      <td>3200.0</td>\n",
       "      <td>https://github.com/gfxfundamentals/webgl-funda...</td>\n",
       "    </tr>\n",
       "    <tr>\n",
       "      <th>25</th>\n",
       "      <td>cleardusk</td>\n",
       "      <td>3DDFA</td>\n",
       "      <td>3100.0</td>\n",
       "      <td>https://github.com/cleardusk/3DDFA</td>\n",
       "    </tr>\n",
       "    <tr>\n",
       "      <th>26</th>\n",
       "      <td>jasonlong</td>\n",
       "      <td>isometric-contributions</td>\n",
       "      <td>3000.0</td>\n",
       "      <td>https://github.com/jasonlong/isometric-contrib...</td>\n",
       "    </tr>\n",
       "    <tr>\n",
       "      <th>27</th>\n",
       "      <td>rg3dengine</td>\n",
       "      <td>rg3d</td>\n",
       "      <td>2800.0</td>\n",
       "      <td>https://github.com/rg3dengine/rg3d</td>\n",
       "    </tr>\n",
       "    <tr>\n",
       "      <th>28</th>\n",
       "      <td>cnr-isti-vclab</td>\n",
       "      <td>meshlab</td>\n",
       "      <td>2500.0</td>\n",
       "      <td>https://github.com/cnr-isti-vclab/meshlab</td>\n",
       "    </tr>\n",
       "    <tr>\n",
       "      <th>29</th>\n",
       "      <td>antvis</td>\n",
       "      <td>L7</td>\n",
       "      <td>2500.0</td>\n",
       "      <td>https://github.com/antvis/L7</td>\n",
       "    </tr>\n",
       "  </tbody>\n",
       "</table>\n",
       "</div>"
      ],
      "text/plain": [
       "            Username                      Repo Name  Repo Urls  \\\n",
       "0             mrdoob                       three.js    75100.0   \n",
       "1             libgdx                         libgdx    19100.0   \n",
       "2             pmndrs              react-three-fiber    15400.0   \n",
       "3          BabylonJS                     Babylon.js    15100.0   \n",
       "4           aframevr                         aframe    13200.0   \n",
       "5              ssloy                   tinyrenderer    11500.0   \n",
       "6            lettier  3d-game-shaders-for-beginners    11400.0   \n",
       "7            FreeCAD                        FreeCAD    10100.0   \n",
       "8          metafizzy                           zdog     8800.0   \n",
       "9           CesiumGS                         cesium     7600.0   \n",
       "10       timzhang642            3D-Machine-Learning     7200.0   \n",
       "11      a1studmuffin             SpaceshipGenerator     6900.0   \n",
       "12           isl-org                         Open3D     5600.0   \n",
       "13          spritejs                       spritejs     4600.0   \n",
       "14  tensorspace-team                    tensorspace     4500.0   \n",
       "15           jagenjo                 webglstudio.js     4500.0   \n",
       "16           domlysz                     BlenderGIS     4500.0   \n",
       "17           YadiraF                          PRNet     4400.0   \n",
       "18      AaronJackson                            vrn     4400.0   \n",
       "19          openscad                       openscad     4300.0   \n",
       "20             ssloy                  tinyraytracer     3900.0   \n",
       "21             mosra                         magnum     3700.0   \n",
       "22           blender                        blender     3600.0   \n",
       "23            google                   model-viewer     3500.0   \n",
       "24   gfxfundamentals             webgl-fundamentals     3200.0   \n",
       "25         cleardusk                          3DDFA     3100.0   \n",
       "26         jasonlong        isometric-contributions     3000.0   \n",
       "27        rg3dengine                           rg3d     2800.0   \n",
       "28    cnr-isti-vclab                        meshlab     2500.0   \n",
       "29            antvis                             L7     2500.0   \n",
       "\n",
       "                                         Star Ratings  \n",
       "0                  https://github.com/mrdoob/three.js  \n",
       "1                    https://github.com/libgdx/libgdx  \n",
       "2         https://github.com/pmndrs/react-three-fiber  \n",
       "3             https://github.com/BabylonJS/Babylon.js  \n",
       "4                  https://github.com/aframevr/aframe  \n",
       "5               https://github.com/ssloy/tinyrenderer  \n",
       "6   https://github.com/lettier/3d-game-shaders-for...  \n",
       "7                  https://github.com/FreeCAD/FreeCAD  \n",
       "8                   https://github.com/metafizzy/zdog  \n",
       "9                  https://github.com/CesiumGS/cesium  \n",
       "10  https://github.com/timzhang642/3D-Machine-Lear...  \n",
       "11  https://github.com/a1studmuffin/SpaceshipGener...  \n",
       "12                  https://github.com/isl-org/Open3D  \n",
       "13               https://github.com/spritejs/spritejs  \n",
       "14    https://github.com/tensorspace-team/tensorspace  \n",
       "15          https://github.com/jagenjo/webglstudio.js  \n",
       "16              https://github.com/domlysz/BlenderGIS  \n",
       "17                   https://github.com/YadiraF/PRNet  \n",
       "18                https://github.com/AaronJackson/vrn  \n",
       "19               https://github.com/openscad/openscad  \n",
       "20             https://github.com/ssloy/tinyraytracer  \n",
       "21                    https://github.com/mosra/magnum  \n",
       "22                 https://github.com/blender/blender  \n",
       "23             https://github.com/google/model-viewer  \n",
       "24  https://github.com/gfxfundamentals/webgl-funda...  \n",
       "25                 https://github.com/cleardusk/3DDFA  \n",
       "26  https://github.com/jasonlong/isometric-contrib...  \n",
       "27                 https://github.com/rg3dengine/rg3d  \n",
       "28          https://github.com/cnr-isti-vclab/meshlab  \n",
       "29                       https://github.com/antvis/L7  "
      ]
     },
     "execution_count": 219,
     "metadata": {},
     "output_type": "execute_result"
    }
   ],
   "source": [
    "df"
   ]
  },
  {
   "cell_type": "code",
   "execution_count": null,
   "id": "52a96869",
   "metadata": {},
   "outputs": [],
   "source": []
  }
 ],
 "metadata": {
  "kernelspec": {
   "display_name": "Python 3 (ipykernel)",
   "language": "python",
   "name": "python3"
  },
  "language_info": {
   "codemirror_mode": {
    "name": "ipython",
    "version": 3
   },
   "file_extension": ".py",
   "mimetype": "text/x-python",
   "name": "python",
   "nbconvert_exporter": "python",
   "pygments_lexer": "ipython3",
   "version": "3.9.6"
  }
 },
 "nbformat": 4,
 "nbformat_minor": 5
}
